{
 "cells": [
  {
   "cell_type": "code",
   "execution_count": 51,
   "id": "43bcd1a9-37de-401d-ac3f-da9b5105154e",
   "metadata": {},
   "outputs": [
    {
     "name": "stdout",
     "output_type": "stream",
     "text": [
      "CPU times: total: 0 ns\n",
      "Wall time: 3.64 ms\n"
     ]
    }
   ],
   "source": [
    "%%time\n",
    "import json\n",
    "from unstructured.partition.auto import partition\n",
    "import unstructured\n",
    "import pickle\n",
    "import os\n",
    "from langchain_text_splitters import RecursiveCharacterTextSplitter"
   ]
  },
  {
   "cell_type": "code",
   "execution_count": 2,
   "id": "1f31fbaf-ba9c-43ea-9c63-afe4396b9f34",
   "metadata": {},
   "outputs": [],
   "source": [
    "def load_pdf_name(hash_id):\n",
    "    resources = json.load(open('./resources/res.json'))\n",
    "    pdfname = list(filter(lambda x:x['hash'] == hash_id,resources))[0]['filename']\n",
    "    return \"./resources/\"+pdfname\n",
    "def load_pdf(hash, cache=True):\n",
    "    pklfn = './resources/'+hash+\".pkl\"\n",
    "    if os.path.isfile(pklfn) and cache:\n",
    "        pages = pickle.load(open(pklfn, 'rb'))\n",
    "        return pages\n",
    "    fname = load_pdf_name(hash)\n",
    "    elements = partition(fname)\n",
    "    pages = list(range(elements[-1].metadata.page_number))\n",
    "\n",
    "    for el in elements:\n",
    "        if type(pages[el.metadata.page_number-1]) == int:\n",
    "            pages[el.metadata.page_number-1] = []\n",
    "        if type(el)==unstructured.documents.elements.Footer:\n",
    "            continue\n",
    "        if type(el)==unstructured.documents.elements.Header:\n",
    "            continue\n",
    "        pages[el.metadata.page_number-1].append(el)\n",
    "    pickle.dump(pages,open(pklfn, 'wb'))\n",
    "    return pages\n",
    "def prep_documents_set(pdf_pages):\n",
    "    docs = []\n",
    "    for p in pdf_pages:\n",
    "        str = \"\"\n",
    "        # print(type(p))\n",
    "        for el in p:\n",
    "            str += el.text+\"\\n\"\n",
    "        docs.append(str)\n",
    "    return docs\n",
    "def docs_overlap(_docs):\n",
    "    docs = _docs.copy()\n",
    "    maxl = len(docs)\n",
    "    splitter_char = \". \"\n",
    "    overlap_num_sentences = 3\n",
    "    for i, doc in enumerate(docs):\n",
    "        if i<1:\n",
    "            continue\n",
    "        prechunk = _docs[i-1].split(splitter_char)[-overlap_num_sentences:]\n",
    "        # if i == 9: print(prechunk)\n",
    "        docs[i] = splitter_char.join(prechunk) + docs[i]\n",
    "        if i>=maxl-1:\n",
    "            continue\n",
    "        pstchunk = _docs[i+1].split(splitter_char)[:overlap_num_sentences]\n",
    "        docs[i] = docs[i] + splitter_char.join(pstchunk)\n",
    "    return docs\n",
    "    "
   ]
  },
  {
   "cell_type": "code",
   "execution_count": 3,
   "id": "9705ead6-fa06-414d-8802-f5acb2bb9605",
   "metadata": {},
   "outputs": [
    {
     "name": "stdout",
     "output_type": "stream",
     "text": [
      "CPU times: total: 0 ns\n",
      "Wall time: 0 ns\n"
     ]
    }
   ],
   "source": [
    "%time\n",
    "pages = load_pdf(\"857irwueifdkjwo9eruj2iroeakdfm\")"
   ]
  },
  {
   "cell_type": "code",
   "execution_count": 19,
   "id": "d31ed968-bffc-4487-aa4f-754fb63cd65c",
   "metadata": {},
   "outputs": [],
   "source": [
    "# pickle.dump(pages,open('./resources/857irwueifdkjwo9eruj2iroeakdfm.pkl', 'wb'))"
   ]
  },
  {
   "cell_type": "code",
   "execution_count": 62,
   "id": "1b918f7d-5b75-4c6c-bc3f-51c69a50ee83",
   "metadata": {},
   "outputs": [
    {
     "data": {
      "text/plain": [
       "['ijkl', 'mnop', 'qrst']"
      ]
     },
     "execution_count": 62,
     "metadata": {},
     "output_type": "execute_result"
    }
   ],
   "source": [
    "\"abcd efgh ijkl mnop qrst\".split(' ')[-3:]"
   ]
  },
  {
   "cell_type": "code",
   "execution_count": 15,
   "id": "9390f20a-7f60-41d7-ba4d-68387cc66d30",
   "metadata": {},
   "outputs": [
    {
     "name": "stdout",
     "output_type": "stream",
     "text": [
      "The attacker used duct tape to affix Čarek's hand, holding the gun, to his head. Now all he had to do was pull the trigger, and after confirming Čarek's death, remove the tape and any signs of a third party from the room. We don't know who the attacker\n",
      "was, but he was certainly a professional.\n",
      "The Salzburg police finally set their sights on the man who appeared at St. Ursula\n",
      "Clinic at 2:00 AM the day after the murder. It had now been two weeks since Čarek's murder — but the only three people who could possibly identify this man had been killed with an axe...\n",
      "The police believe there is a connection between the Čarek murder and the man with\n",
      "the bullet wound who appeared at the hospital, but they do not recognize a link between this man and Kottmann. The fact that all three witnesses were murdered was an unfortunate coincidence. Their line of reasoning is this: the man who killed Čarek was a trained terrorist, and those types of people never have ties to serial killers. Kottmann was the type who acted on his desires and impulses, and not the kind of person who would commit murder at the request of another and commit suicide afterward, to seal the case — which makes sense.\n",
      "But they have no answer for Kottmann's last words: \"One, two, three... My mission is\n",
      "complete.\"\n",
      "An illustration from Dorn in the Darkness. With its wavering message that shifts between good and evil, the Dorn series has a fanatical teen readership, but due to its extreme violence and sexual material, is derisively called \"the most enticing kind of pulp literature\" by critics.\n",
      "My own personal theory goes like this. The man who checked in to the hospital with the injured arm was the man who killed Čarek. He hoped that the hospital staff would not report his presence to the police, but he had a plan in case they did\n"
     ]
    }
   ],
   "source": [
    "docs = prep_documents_set(pages)\n",
    "ov = docs_overlap(docs)\n",
    "print(ov[11])\n"
   ]
  },
  {
   "cell_type": "code",
   "execution_count": 12,
   "id": "a726e408-d47b-4b99-a70d-708fb78b2406",
   "metadata": {},
   "outputs": [],
   "source": [
    "from langchain_openai import ChatOpenAI\n",
    "from langchain.prompts import PromptTemplate\n",
    "from langchain.chains import LLMChain\n",
    "import dotenv\n",
    "dotenv.load_dotenv()\n",
    "\n",
    "model = ChatOpenAI()"
   ]
  },
  {
   "cell_type": "code",
   "execution_count": 74,
   "id": "18343708-a1b3-4ad1-8d8b-26f057e128ce",
   "metadata": {},
   "outputs": [
    {
     "ename": "TypeError",
     "evalue": "RunnableSequence.invoke() got an unexpected keyword argument 'max_tokens_limit'",
     "output_type": "error",
     "traceback": [
      "\u001b[1;31m---------------------------------------------------------------------------\u001b[0m",
      "\u001b[1;31mTypeError\u001b[0m                                 Traceback (most recent call last)",
      "Cell \u001b[1;32mIn[74], line 69\u001b[0m\n\u001b[0;32m     56\u001b[0m     \u001b[38;5;28;01mreturn\u001b[39;00m precontext_summarize_chain\u001b[38;5;241m.\u001b[39minvoke({\u001b[38;5;124m\"\u001b[39m\u001b[38;5;124mcontent\u001b[39m\u001b[38;5;124m\"\u001b[39m:txt, \u001b[38;5;124m\"\u001b[39m\u001b[38;5;124mprecontext\u001b[39m\u001b[38;5;124m\"\u001b[39m:gen_summary})\n\u001b[0;32m     58\u001b[0m inpu \u001b[38;5;241m=\u001b[39m \u001b[38;5;124m\"\"\"\u001b[39m\u001b[38;5;124mThe attacker used duct tape to affix Čarek\u001b[39m\u001b[38;5;124m'\u001b[39m\u001b[38;5;124ms hand, holding the gun, to his head. Now all he had to do was pull the trigger, and after confirming Čarek\u001b[39m\u001b[38;5;124m'\u001b[39m\u001b[38;5;124ms death, remove the tape and any signs of a third party from the room. We don\u001b[39m\u001b[38;5;124m'\u001b[39m\u001b[38;5;124mt know who the attacker\u001b[39m\n\u001b[0;32m     59\u001b[0m \u001b[38;5;124mwas, but he was certainly a professional.\u001b[39m\n\u001b[0;32m     60\u001b[0m \u001b[38;5;124mThe Salzburg police finally set their sights on the man who appeared at St. Ursula\u001b[39m\n\u001b[1;32m   (...)\u001b[0m\n\u001b[0;32m     66\u001b[0m \u001b[38;5;124mAn illustration from Dorn in the Darkness. With its wavering message that shifts between good and evil, the Dorn series has a fanatical teen readership, but due to its extreme violence and sexual material, is derisively called \u001b[39m\u001b[38;5;124m\"\u001b[39m\u001b[38;5;124mthe most enticing kind of pulp literature\u001b[39m\u001b[38;5;124m\"\u001b[39m\u001b[38;5;124m by critics.\u001b[39m\n\u001b[0;32m     67\u001b[0m \u001b[38;5;124mMy own personal theory goes like this. The man who checked in to the hospital with the injured arm was the man who killed Čarek. He hoped that the hospital staff would not report his presence to the police, but he had a plan in case they did\u001b[39m\u001b[38;5;124m\"\"\"\u001b[39m\n\u001b[1;32m---> 69\u001b[0m outp \u001b[38;5;241m=\u001b[39m \u001b[43msummarize\u001b[49m\u001b[43m(\u001b[49m\u001b[43minpu\u001b[49m\u001b[43m)\u001b[49m\n\u001b[0;32m     71\u001b[0m \u001b[38;5;28mprint\u001b[39m(outp)\n",
      "Cell \u001b[1;32mIn[74], line 55\u001b[0m, in \u001b[0;36msummarize\u001b[1;34m(txt, gen_summary)\u001b[0m\n\u001b[0;32m     53\u001b[0m \u001b[38;5;28;01mdef\u001b[39;00m \u001b[38;5;21msummarize\u001b[39m(txt, gen_summary\u001b[38;5;241m=\u001b[39m\u001b[38;5;124m\"\u001b[39m\u001b[38;5;124m\"\u001b[39m):\n\u001b[0;32m     54\u001b[0m     \u001b[38;5;28;01mif\u001b[39;00m gen_summary \u001b[38;5;241m==\u001b[39m \u001b[38;5;124m\"\u001b[39m\u001b[38;5;124m\"\u001b[39m:\n\u001b[1;32m---> 55\u001b[0m         \u001b[38;5;28;01mreturn\u001b[39;00m \u001b[43mdefault_summarize_chain\u001b[49m\u001b[38;5;241;43m.\u001b[39;49m\u001b[43minvoke\u001b[49m\u001b[43m(\u001b[49m\u001b[43m{\u001b[49m\u001b[38;5;124;43m\"\u001b[39;49m\u001b[38;5;124;43mcontent\u001b[39;49m\u001b[38;5;124;43m\"\u001b[39;49m\u001b[43m:\u001b[49m\u001b[43mtxt\u001b[49m\u001b[43m}\u001b[49m\u001b[43m,\u001b[49m\u001b[43mmax_tokens_limit\u001b[49m\u001b[38;5;241;43m=\u001b[39;49m\u001b[38;5;241;43m10\u001b[39;49m\u001b[43m)\u001b[49m\n\u001b[0;32m     56\u001b[0m     \u001b[38;5;28;01mreturn\u001b[39;00m precontext_summarize_chain\u001b[38;5;241m.\u001b[39minvoke({\u001b[38;5;124m\"\u001b[39m\u001b[38;5;124mcontent\u001b[39m\u001b[38;5;124m\"\u001b[39m:txt, \u001b[38;5;124m\"\u001b[39m\u001b[38;5;124mprecontext\u001b[39m\u001b[38;5;124m\"\u001b[39m:gen_summary})\n",
      "\u001b[1;31mTypeError\u001b[0m: RunnableSequence.invoke() got an unexpected keyword argument 'max_tokens_limit'"
     ]
    }
   ],
   "source": [
    "\n",
    "\n",
    "from langchain_core.pydantic_v1 import BaseModel, Field, validator\n",
    "from langchain.output_parsers import PydanticOutputParser\n",
    "from typing import List\n",
    "\n",
    "model = ChatOpenAI()\n",
    "\n",
    "\n",
    "\n",
    "class PageSummary(BaseModel):\n",
    "    summary:List[str] = Field(description=\"Summary of given page content as a list of string\")\n",
    "    precontext: str = Field(description=\"General Summary of the the page to use as context to provide summary for future pdfs. Generate this field such that the old precontext is preserved, but still, the context of this page dominates, so that the context is clearer for next page\")\n",
    "    pass\n",
    "parser = PydanticOutputParser(pydantic_object=PageSummary)\n",
    "\n",
    "\n",
    "precontext_template = PromptTemplate(\n",
    "    template=\"\"\"You're a content summarizer bot. From a book/pdf, Summarize the following one page content in bullet points: \n",
    "    \n",
    "    {content}\n",
    "\n",
    "    The context of the pdf till now is following, just to have an idea of what above content might mean:\n",
    "    {precontext}\n",
    "\n",
    "    Output Format Instruction:\n",
    "    {format_instructions}\n",
    "    \n",
    "    \"\"\",\n",
    "    input_variables=[\"content\", \"precontext\"],\n",
    "    partial_variables={\"format_instructions\": parser.get_format_instructions()}\n",
    ")\n",
    "\n",
    "\n",
    "template = PromptTemplate(\n",
    "    template=\"\"\"You're a content summarizer bot. From a book/pdf, Summarize the following one page content in bullet points: \n",
    "    \n",
    "    {content}\n",
    "\n",
    "    Output Format Instruction:\n",
    "    {format_instructions}\n",
    "    \n",
    "    \"\"\",\n",
    "    input_variables=[\"content\"],\n",
    "    partial_variables={\"format_instructions\": parser.get_format_instructions()}\n",
    ")\n",
    "\n",
    "\n",
    "\n",
    "default_summarize_chain = template | model | parser\n",
    "\n",
    "precontext_summarize_chain = precontext_template | model | parser\n",
    "\n",
    "\n",
    "def summarize(txt, gen_summary=\"\"):\n",
    "    if gen_summary == \"\":\n",
    "        return default_summarize_chain.invoke({\"content\":txt})\n",
    "    return precontext_summarize_chain.invoke({\"content\":txt, \"precontext\":gen_summary})\n",
    "\n",
    "inpu = \"\"\"The attacker used duct tape to affix Čarek's hand, holding the gun, to his head. Now all he had to do was pull the trigger, and after confirming Čarek's death, remove the tape and any signs of a third party from the room. We don't know who the attacker\n",
    "was, but he was certainly a professional.\n",
    "The Salzburg police finally set their sights on the man who appeared at St. Ursula\n",
    "Clinic at 2:00 AM the day after the murder. It had now been two weeks since Čarek's murder — but the only three people who could possibly identify this man had been killed with an axe...\n",
    "The police believe there is a connection between the Čarek murder and the man with\n",
    "the bullet wound who appeared at the hospital, but they do not recognize a link between this man and Kottmann. The fact that all three witnesses were murdered was an unfortunate coincidence. Their line of reasoning is this: the man who killed Čarek was a trained terrorist, and those types of people never have ties to serial killers. Kottmann was the type who acted on his desires and impulses, and not the kind of person who would commit murder at the request of another and commit suicide afterward, to seal the case — which makes sense.\n",
    "But they have no answer for Kottmann's last words: \"One, two, three... My mission is\n",
    "complete.\"\n",
    "An illustration from Dorn in the Darkness. With its wavering message that shifts between good and evil, the Dorn series has a fanatical teen readership, but due to its extreme violence and sexual material, is derisively called \"the most enticing kind of pulp literature\" by critics.\n",
    "My own personal theory goes like this. The man who checked in to the hospital with the injured arm was the man who killed Čarek. He hoped that the hospital staff would not report his presence to the police, but he had a plan in case they did\"\"\"\n",
    "\n",
    "outp = summarize(inpu)\n",
    "\n",
    "print(outp)"
   ]
  },
  {
   "cell_type": "code",
   "execution_count": 60,
   "id": "b7e3726e-0082-443f-bab0-5fde835cb1d6",
   "metadata": {},
   "outputs": [],
   "source": []
  },
  {
   "cell_type": "code",
   "execution_count": 72,
   "id": "a2fb30e1-31ba-454f-882d-84138166965b",
   "metadata": {},
   "outputs": [],
   "source": []
  }
 ],
 "metadata": {
  "kernelspec": {
   "display_name": "Python 3 (ipykernel)",
   "language": "python",
   "name": "python3"
  },
  "language_info": {
   "codemirror_mode": {
    "name": "ipython",
    "version": 3
   },
   "file_extension": ".py",
   "mimetype": "text/x-python",
   "name": "python",
   "nbconvert_exporter": "python",
   "pygments_lexer": "ipython3",
   "version": "3.10.13"
  }
 },
 "nbformat": 4,
 "nbformat_minor": 5
}
