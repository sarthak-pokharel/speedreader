{
 "cells": [
  {
   "cell_type": "code",
   "execution_count": 1,
   "id": "43bcd1a9-37de-401d-ac3f-da9b5105154e",
   "metadata": {},
   "outputs": [],
   "source": [
    "import json"
   ]
  },
  {
   "cell_type": "code",
   "execution_count": 4,
   "id": "1f31fbaf-ba9c-43ea-9c63-afe4396b9f34",
   "metadata": {},
   "outputs": [
    {
     "data": {
      "text/plain": [
       "'Monster-The-Investigative-Report.pdf'"
      ]
     },
     "execution_count": 4,
     "metadata": {},
     "output_type": "execute_result"
    }
   ],
   "source": [
    "def load_pdf(hash_id):\n",
    "    resources = json.load(open('./resources/res.json'))\n",
    "    pdfname = list(filter(lambda x:x['hash'] == hash_id,resources))[0]['filename']\n",
    "    return pdfname\n",
    "load_pdf_name(\"857irwueifdkjwo9eruj2iroeakdfm\")"
   ]
  },
  {
   "cell_type": "code",
   "execution_count": null,
   "id": "9705ead6-fa06-414d-8802-f5acb2bb9605",
   "metadata": {},
   "outputs": [],
   "source": []
  }
 ],
 "metadata": {
  "kernelspec": {
   "display_name": "Python 3 (ipykernel)",
   "language": "python",
   "name": "python3"
  },
  "language_info": {
   "codemirror_mode": {
    "name": "ipython",
    "version": 3
   },
   "file_extension": ".py",
   "mimetype": "text/x-python",
   "name": "python",
   "nbconvert_exporter": "python",
   "pygments_lexer": "ipython3",
   "version": "3.11.7"
  }
 },
 "nbformat": 4,
 "nbformat_minor": 5
}
